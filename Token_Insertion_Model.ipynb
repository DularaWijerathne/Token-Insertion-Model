{
 "cells": [
  {
   "cell_type": "code",
   "execution_count": 1,
   "metadata": {
    "executionInfo": {
     "elapsed": 338,
     "status": "ok",
     "timestamp": 1711388239634,
     "user": {
      "displayName": "Dulara Wijerathne",
      "userId": "06164353279279504135"
     },
     "user_tz": -330
    },
    "id": "Qhm1PyBT2I7X"
   },
   "outputs": [],
   "source": [
    "import os\n",
    "import json\n",
    "import numpy as np\n",
    "from sklearn.model_selection import train_test_split\n",
    "from sklearn.utils import class_weight\n",
    "import tensorflow as tf\n",
    "from transformers import TFBertModel, BertTokenizer, BertConfig\n",
    "import pickle\n",
    "from tensorflow.keras.models import Sequential\n",
    "from tensorflow.keras.layers import  Input, Embedding, LSTM, Dense, Bidirectional, Dropout, MultiHeadAttention\n",
    "from tensorflow.keras.metrics import Precision, Recall, BinaryAccuracy"
   ]
  },
  {
   "cell_type": "code",
   "execution_count": 2,
   "metadata": {
    "executionInfo": {
     "elapsed": 370,
     "status": "ok",
     "timestamp": 1711387851491,
     "user": {
      "displayName": "Dulara Wijerathne",
      "userId": "06164353279279504135"
     },
     "user_tz": -330
    },
    "id": "WlCjFGGL2NGk"
   },
   "outputs": [],
   "source": [
    "gpus = tf.config.experimental.list_physical_devices('GPU')\n",
    "for gpu in gpus:\n",
    "     tf.config.experimental.set_memory_growth(gpu, True)"
   ]
  },
  {
   "cell_type": "markdown",
   "metadata": {
    "id": "2k2fpuhD2mYC"
   },
   "source": [
    "## Data Preprocessing"
   ]
  },
  {
   "cell_type": "code",
   "execution_count": 3,
   "metadata": {
    "executionInfo": {
     "elapsed": 365,
     "status": "ok",
     "timestamp": 1711387853591,
     "user": {
      "displayName": "Dulara Wijerathne",
      "userId": "06164353279279504135"
     },
     "user_tz": -330
    },
    "id": "p8Hh-CED2oHX"
   },
   "outputs": [],
   "source": [
    "training_data_path = [\"dataset/train1.jsonl\", \"dataset/train2.jsonl\"]\n",
    "checkpoint_dir = \"logs\"\n",
    "output_dir = \"output/\""
   ]
  },
  {
   "cell_type": "code",
   "execution_count": 4,
   "metadata": {
    "executionInfo": {
     "elapsed": 1,
     "status": "ok",
     "timestamp": 1711387854739,
     "user": {
      "displayName": "Dulara Wijerathne",
      "userId": "06164353279279504135"
     },
     "user_tz": -330
    },
    "id": "fo-QLZj5S5GX"
   },
   "outputs": [],
   "source": [
    "# Data loading\n",
    "\n",
    "def load_data(file_path):\n",
    "    data = []\n",
    "    for file in file_path:\n",
    "        with open(file, 'r', encoding='utf-8') as f:\n",
    "            data.extend([json.loads(line) for line in f])\n",
    "    return data"
   ]
  },
  {
   "cell_type": "code",
   "execution_count": 5,
   "metadata": {},
   "outputs": [],
   "source": [
    "# Define MAX_LENGTH\n",
    "\n",
    "MAX_LENGTH = 60\n"
   ]
  },
  {
   "cell_type": "code",
   "execution_count": 6,
   "metadata": {},
   "outputs": [],
   "source": [
    "def clean_data(data):\n",
    "    sentences = []\n",
    "    valid_sentences = []\n",
    "\n",
    "    for line in data:\n",
    "        split_list = [part.strip() for part in line['stripped_sentence'].split('. ') if part.strip()]\n",
    "        for i in range(len(split_list)-1):\n",
    "            split_list[i] = split_list[i]+'.'  \n",
    "        sentences.extend(split_list)\n",
    "\n",
    "    for sentence in sentences:\n",
    "        if 4 < len(sentence.split()) <= 50:\n",
    "            if any(token in sentence for token in ['~<X>', '(<X>)', '<X>']):\n",
    "                if \"  \\\\\\\\\" not in sentence: # remove sentences with \"   \\\\\\\\\"\n",
    "                    valid_sentences.append(sentence)\n",
    "\n",
    "    return valid_sentences\n"
   ]
  },
  {
   "cell_type": "code",
   "execution_count": 7,
   "metadata": {},
   "outputs": [],
   "source": [
    "# Data Preprocessing\n",
    "\n",
    "def preprocess_data(data):\n",
    "    tokenizer  = BertTokenizer.from_pretrained(\"bert-base-uncased\")\n",
    "    \n",
    "    input_ids, attention_masks, target_tags = [], [], []\n",
    "    \n",
    "    for sentence in data:\n",
    "\n",
    "        masked_sentence = sentence.lower().replace('~<x>', '[MASK]').replace('(<x>)', '[MASK]').replace('<x>', '[MASK]')\n",
    "        \n",
    "        encoded_dict = tokenizer(masked_sentence, max_length=MAX_LENGTH, padding='max_length', truncation=True, return_tensors=\"tf\")\n",
    "        \n",
    "        mask_indexes = [i for i, token in enumerate(encoded_dict[\"input_ids\"][0]) if token == tokenizer.convert_tokens_to_ids('[MASK]')]\n",
    "   \n",
    "        # Preprocessing input_ids\n",
    "        ids_without_mask = np.delete(encoded_dict[\"input_ids\"], mask_indexes)\n",
    "        if len(ids_without_mask) < MAX_LENGTH:\n",
    "            ids_without_mask = np.pad(ids_without_mask, (0, MAX_LENGTH-len(ids_without_mask)), mode='constant')\n",
    "        input_ids.append([ids_without_mask])\n",
    "\n",
    "        # Preprocessing attention_mask\n",
    "        attention_without_mask = np.delete(encoded_dict[\"attention_mask\"], mask_indexes)\n",
    "        if len(attention_without_mask) < MAX_LENGTH:\n",
    "            attention_without_mask = np.pad(attention_without_mask, (0, MAX_LENGTH-len(attention_without_mask)), mode='constant')\n",
    "        attention_masks.append([attention_without_mask])\n",
    "        \n",
    "        # Preprocessing target_tags\n",
    "        labels = np.zeros(MAX_LENGTH, dtype=int)\n",
    "        for i in mask_indexes:\n",
    "            labels[i - 1] = 1\n",
    "        labels_without_mask = np.delete(labels, mask_indexes)  \n",
    "        if len(labels_without_mask) < MAX_LENGTH:\n",
    "            labels_without_mask = np.pad(labels_without_mask, (0, MAX_LENGTH-len(labels_without_mask)), mode='constant')\n",
    "        target_tags.append([labels_without_mask])\n",
    "\n",
    "    return tf.concat(input_ids, axis=0), tf.concat(attention_masks, axis=0), tf.concat(target_tags, axis=0)\n",
    "    "
   ]
  },
  {
   "cell_type": "markdown",
   "metadata": {
    "id": "O7ALXiXnAEaB"
   },
   "source": [
    "## Model Implementation"
   ]
  },
  {
   "cell_type": "code",
   "execution_count": 8,
   "metadata": {},
   "outputs": [],
   "source": [
    "def build_model(fine_tune_bert=False):\n",
    "    bert_model = TFBertModel.from_pretrained(\"bert-base-uncased\")\n",
    "\n",
    "    # Freeze BERT layers for fine-tuning\n",
    "    if fine_tune_bert:\n",
    "        for layer in bert_model.layers:\n",
    "            layer.trainable = True\n",
    "    else:\n",
    "        for layer in bert_model.layers:\n",
    "            layer.trainable = False\n",
    "\n",
    "\n",
    "    input_ids = Input(shape=(None,), dtype=tf.int32, name=\"input_ids\")\n",
    "    attention_mask = Input(shape=(None,), dtype=tf.int32, name=\"attention_mask\")\n",
    "    \n",
    "    bert_output = bert_model([input_ids, attention_mask])[0]\n",
    "\n",
    "    dense_layer1 = tf.keras.layers.Dense(512, activation='relu')(bert_output)\n",
    "    dropout_layer1 = tf.keras.layers.Dropout(0.5)(dense_layer1)\n",
    "    \n",
    "    dense_layer2 = tf.keras.layers.Dense(256, activation='relu')(dropout_layer1)\n",
    "    dropout_layer2 = tf.keras.layers.Dropout(0.5)(dense_layer2)\n",
    "\n",
    "    dense_layer3 = tf.keras.layers.Dense(128, activation='relu')(dropout_layer2)\n",
    "    dropout_layer3 = tf.keras.layers.Dropout(0.5)(dense_layer3)\n",
    "    \n",
    "    prediction = Dense(1, activation=\"sigmoid\", name=\"prediction\")(dropout_layer3)\n",
    "    \n",
    "    model = tf.keras.Model(inputs=[input_ids, attention_mask], outputs=prediction)\n",
    "\n",
    "    optimizer = tf.keras.optimizers.Adam(learning_rate=2e-5)\n",
    "    loss = tf.keras.losses.BinaryCrossentropy()\n",
    "    metrics = [F1Score(name='F1Score'), Precision(name='precision'), Recall(name='recall')]\n",
    "\n",
    "    # Compile model with binary cross-entropy loss\n",
    "    model.compile(optimizer=optimizer, loss=loss, metrics=metrics)\n",
    "    \n",
    "    return model\n"
   ]
  },
  {
   "cell_type": "code",
   "execution_count": 9,
   "metadata": {},
   "outputs": [],
   "source": [
    "def train_model(model, train_preprocessed_data, val_preprocessed_data, epochs=5, resume_training=False, save_checkpoint=False, early_stopping=False):\n",
    "    train_input_ids, train_attention_masks, train_target_tags = train_preprocessed_data\n",
    "    val_input_ids, val_attention_masks, val_target_tags = val_preprocessed_data\n",
    "\n",
    "    tf.random.set_seed(12)\n",
    "\n",
    "    # Early stopping callback to monitor validation accuracy\n",
    "    if early_stopping:\n",
    "        callbacks = [tf.keras.callbacks.EarlyStopping(monitor=\"F1Score\", patience=2)]\n",
    "    else:\n",
    "        callbacks = []\n",
    "    \n",
    "    # Load weights from the latest checkpoint if resume_training is True\n",
    "    if resume_training:\n",
    "        latest_checkpoint = tf.train.latest_checkpoint(checkpoint_dir)\n",
    "        if latest_checkpoint:\n",
    "            model.load_weights(latest_checkpoint)\n",
    "            print(f\"Loaded weights from checkpoint: {latest_checkpoint}\")\n",
    "        else:\n",
    "            print(\"No checkpoint found for resuming training.\")\n",
    "\n",
    "    # Create checkpoint callback if saving is enabled\n",
    "    if save_checkpoint:\n",
    "        checkpoint_callback = tf.keras.callbacks.ModelCheckpoint(\n",
    "            filepath=os.path.join(checkpoint_dir, \"ckpt\"),\n",
    "            save_weights_only=True,\n",
    "            save_best_only=True,\n",
    "            verbose=1\n",
    "        )\n",
    "        callbacks.append(checkpoint_callback)\n",
    "\n",
    "    # Train the model with callbacks\n",
    "    history = model.fit(\n",
    "        x=[train_input_ids, train_attention_masks],\n",
    "        y=train_target_tags,\n",
    "        epochs=epochs,\n",
    "        validation_data=([val_input_ids, val_attention_masks], val_target_tags),\n",
    "        callbacks=callbacks,\n",
    "        shuffle=True\n",
    "    )\n",
    "\n",
    "    return history\n"
   ]
  },
  {
   "cell_type": "code",
   "execution_count": 10,
   "metadata": {},
   "outputs": [],
   "source": [
    "# Define F1 score metric\n",
    "\n",
    "class F1Score(tf.keras.metrics.Metric):\n",
    "    def __init__(self, name='f1_score', **kwargs):\n",
    "        super(F1Score, self).__init__(name=name, **kwargs)\n",
    "        self.precision = Precision()\n",
    "        self.recall = Recall()\n",
    "\n",
    "    def update_state(self, y_true, y_pred, sample_weight=None):\n",
    "        self.precision.update_state(y_true, y_pred)\n",
    "        self.recall.update_state(y_true, y_pred)\n",
    "\n",
    "    def result(self):\n",
    "        precision_result = self.precision.result()\n",
    "        recall_result = self.recall.result()\n",
    "        return 2 * ((precision_result * recall_result) / (precision_result + recall_result + tf.keras.backend.epsilon()))\n",
    "\n",
    "    def reset_state(self):\n",
    "        self.precision.reset_state()\n",
    "        self.recall.reset_state()"
   ]
  },
  {
   "cell_type": "markdown",
   "metadata": {},
   "source": [
    "## Data Loading and Model Training"
   ]
  },
  {
   "cell_type": "code",
   "execution_count": 11,
   "metadata": {},
   "outputs": [],
   "source": [
    "data = load_data(training_data_path)"
   ]
  },
  {
   "cell_type": "code",
   "execution_count": 12,
   "metadata": {},
   "outputs": [],
   "source": [
    "cleaned_data = clean_data(data)\n",
    "train_data, val_data = train_test_split(cleaned_data, test_size=0.2, random_state=42)"
   ]
  },
  {
   "cell_type": "code",
   "execution_count": 13,
   "metadata": {},
   "outputs": [],
   "source": [
    "train_preprocessed_data = None\n",
    "if os.path.isfile(output_dir + 'train_tokenized_data.pkl'):\n",
    "    with open(output_dir + 'train_tokenized_data.pkl', 'rb') as f:\n",
    "        train_preprocessed_data = pickle.load(f)\n",
    "else:\n",
    "    train_preprocessed_data = preprocess_data(train_data)\n",
    "    with open(output_dir + 'train_tokenized_data.pkl', 'wb') as f:\n",
    "        pickle.dump(train_preprocessed_data, f)\n",
    "      \n",
    "val_preprocessed_data = None\n",
    "if os.path.isfile(output_dir + 'val_tokenized_data.pkl'):\n",
    "    with open(output_dir + 'val_tokenized_data.pkl', 'rb') as f:\n",
    "        val_preprocessed_data = pickle.load(f)\n",
    "else:\n",
    "    val_preprocessed_data = preprocess_data(val_data)\n",
    "    with open(output_dir + 'val_tokenized_data.pkl', 'wb') as f:\n",
    "        pickle.dump(val_preprocessed_data, f)"
   ]
  },
  {
   "cell_type": "code",
   "execution_count": 14,
   "metadata": {},
   "outputs": [
    {
     "name": "stderr",
     "output_type": "stream",
     "text": [
      "Some weights of the PyTorch model were not used when initializing the TF 2.0 model TFBertModel: ['cls.seq_relationship.weight', 'cls.predictions.transform.LayerNorm.weight', 'cls.seq_relationship.bias', 'cls.predictions.bias', 'cls.predictions.transform.LayerNorm.bias', 'cls.predictions.transform.dense.bias', 'cls.predictions.transform.dense.weight']\n",
      "- This IS expected if you are initializing TFBertModel from a PyTorch model trained on another task or with another architecture (e.g. initializing a TFBertForSequenceClassification model from a BertForPreTraining model).\n",
      "- This IS NOT expected if you are initializing TFBertModel from a PyTorch model that you expect to be exactly identical (e.g. initializing a TFBertForSequenceClassification model from a BertForSequenceClassification model).\n",
      "All the weights of TFBertModel were initialized from the PyTorch model.\n",
      "If your task is similar to the task the model of the checkpoint was trained on, you can already use TFBertModel for predictions without further training.\n"
     ]
    },
    {
     "name": "stdout",
     "output_type": "stream",
     "text": [
      "Model: \"model\"\n",
      "__________________________________________________________________________________________________\n",
      " Layer (type)                   Output Shape         Param #     Connected to                     \n",
      "==================================================================================================\n",
      " input_ids (InputLayer)         [(None, None)]       0           []                               \n",
      "                                                                                                  \n",
      " attention_mask (InputLayer)    [(None, None)]       0           []                               \n",
      "                                                                                                  \n",
      " tf_bert_model (TFBertModel)    TFBaseModelOutputWi  109482240   ['input_ids[0][0]',              \n",
      "                                thPoolingAndCrossAt               'attention_mask[0][0]']         \n",
      "                                tentions(last_hidde                                               \n",
      "                                n_state=(None, None                                               \n",
      "                                , 768),                                                           \n",
      "                                 pooler_output=(Non                                               \n",
      "                                e, 768),                                                          \n",
      "                                 past_key_values=No                                               \n",
      "                                ne, hidden_states=N                                               \n",
      "                                one, attentions=Non                                               \n",
      "                                e, cross_attentions                                               \n",
      "                                =None)                                                            \n",
      "                                                                                                  \n",
      " dense (Dense)                  (None, None, 512)    393728      ['tf_bert_model[0][0]']          \n",
      "                                                                                                  \n",
      " dropout_37 (Dropout)           (None, None, 512)    0           ['dense[0][0]']                  \n",
      "                                                                                                  \n",
      " dense_1 (Dense)                (None, None, 256)    131328      ['dropout_37[0][0]']             \n",
      "                                                                                                  \n",
      " dropout_38 (Dropout)           (None, None, 256)    0           ['dense_1[0][0]']                \n",
      "                                                                                                  \n",
      " dense_2 (Dense)                (None, None, 128)    32896       ['dropout_38[0][0]']             \n",
      "                                                                                                  \n",
      " dropout_39 (Dropout)           (None, None, 128)    0           ['dense_2[0][0]']                \n",
      "                                                                                                  \n",
      " prediction (Dense)             (None, None, 1)      129         ['dropout_39[0][0]']             \n",
      "                                                                                                  \n",
      "==================================================================================================\n",
      "Total params: 110,040,321\n",
      "Trainable params: 110,040,321\n",
      "Non-trainable params: 0\n",
      "__________________________________________________________________________________________________\n"
     ]
    }
   ],
   "source": [
    "model = build_model(fine_tune_bert=True)\n",
    "model.summary()"
   ]
  },
  {
   "cell_type": "code",
   "execution_count": 17,
   "metadata": {},
   "outputs": [
    {
     "name": "stdout",
     "output_type": "stream",
     "text": [
      "Loaded weights from checkpoint: logs\\ckpt\n",
      "Epoch 1/2\n",
      "17820/17820 [==============================] - ETA: 0s - loss: 0.0032 - F1Score: 0.9728 - precision: 0.9760 - recall: 0.9695\n",
      "Epoch 1: val_loss improved from inf to 0.01479, saving model to logs\\ckpt\n",
      "17820/17820 [==============================] - 4034s 226ms/step - loss: 0.0032 - F1Score: 0.9728 - precision: 0.9760 - recall: 0.9695 - val_loss: 0.0148 - val_F1Score: 0.9121 - val_precision: 0.9090 - val_recall: 0.9153\n",
      "Epoch 2/2\n",
      "17820/17820 [==============================] - ETA: 0s - loss: 0.0027 - F1Score: 0.9776 - precision: 0.9801 - recall: 0.9751\n",
      "Epoch 2: val_loss improved from 0.01479 to 0.01449, saving model to logs\\ckpt\n",
      "17820/17820 [==============================] - 3414s 192ms/step - loss: 0.0027 - F1Score: 0.9776 - precision: 0.9801 - recall: 0.9751 - val_loss: 0.0145 - val_F1Score: 0.9167 - val_precision: 0.9220 - val_recall: 0.9114\n"
     ]
    }
   ],
   "source": [
    "history = train_model(model, train_preprocessed_data, val_preprocessed_data, epochs=2, save_checkpoint=True, resume_training=True, early_stopping=True)"
   ]
  },
  {
   "cell_type": "code",
   "execution_count": 18,
   "metadata": {},
   "outputs": [
    {
     "name": "stderr",
     "output_type": "stream",
     "text": [
      "WARNING:absl:Found untraced functions such as serving, embeddings_layer_call_fn, embeddings_layer_call_and_return_conditional_losses, encoder_layer_call_fn, encoder_layer_call_and_return_conditional_losses while saving (showing 5 of 421). These functions will not be directly callable after loading.\n"
     ]
    },
    {
     "name": "stdout",
     "output_type": "stream",
     "text": [
      "INFO:tensorflow:Assets written to: output/model/token_insertion_model\\assets\n"
     ]
    },
    {
     "name": "stderr",
     "output_type": "stream",
     "text": [
      "INFO:tensorflow:Assets written to: output/model/token_insertion_model\\assets\n"
     ]
    }
   ],
   "source": [
    "# Save the model along with custom objects\n",
    "\n",
    "model.save(output_dir + 'model/token_insertion_model')\n",
    "\n",
    "tf.keras.models.save_model(model, filepath = output_dir + 'model/token_insertion_model.h5', \n",
    "                           include_optimizer=True, save_format='h5')"
   ]
  },
  {
   "cell_type": "code",
   "execution_count": null,
   "metadata": {},
   "outputs": [],
   "source": []
  }
 ],
 "metadata": {
  "accelerator": "GPU",
  "colab": {
   "authorship_tag": "ABX9TyMTaHJmyxPPx5IfldOAhA8P",
   "gpuType": "T4",
   "machine_shape": "hm",
   "provenance": []
  },
  "kernelspec": {
   "display_name": "Python 3 (ipykernel)",
   "language": "python",
   "name": "python3"
  },
  "language_info": {
   "codemirror_mode": {
    "name": "ipython",
    "version": 3
   },
   "file_extension": ".py",
   "mimetype": "text/x-python",
   "name": "python",
   "nbconvert_exporter": "python",
   "pygments_lexer": "ipython3",
   "version": "3.10.13"
  },
  "widgets": {
   "application/vnd.jupyter.widget-state+json": {
    "1d56465d53fa461898a8e313154bd3b9": {
     "model_module": "@jupyter-widgets/base",
     "model_module_version": "1.2.0",
     "model_name": "LayoutModel",
     "state": {
      "_model_module": "@jupyter-widgets/base",
      "_model_module_version": "1.2.0",
      "_model_name": "LayoutModel",
      "_view_count": null,
      "_view_module": "@jupyter-widgets/base",
      "_view_module_version": "1.2.0",
      "_view_name": "LayoutView",
      "align_content": null,
      "align_items": null,
      "align_self": null,
      "border": null,
      "bottom": null,
      "display": null,
      "flex": null,
      "flex_flow": null,
      "grid_area": null,
      "grid_auto_columns": null,
      "grid_auto_flow": null,
      "grid_auto_rows": null,
      "grid_column": null,
      "grid_gap": null,
      "grid_row": null,
      "grid_template_areas": null,
      "grid_template_columns": null,
      "grid_template_rows": null,
      "height": null,
      "justify_content": null,
      "justify_items": null,
      "left": null,
      "margin": null,
      "max_height": null,
      "max_width": null,
      "min_height": null,
      "min_width": null,
      "object_fit": null,
      "object_position": null,
      "order": null,
      "overflow": null,
      "overflow_x": null,
      "overflow_y": null,
      "padding": null,
      "right": null,
      "top": null,
      "visibility": null,
      "width": null
     }
    },
    "24d46033c21e42f1980d92fa1be1d6a6": {
     "model_module": "@jupyter-widgets/controls",
     "model_module_version": "1.5.0",
     "model_name": "HTMLModel",
     "state": {
      "_dom_classes": [],
      "_model_module": "@jupyter-widgets/controls",
      "_model_module_version": "1.5.0",
      "_model_name": "HTMLModel",
      "_view_count": null,
      "_view_module": "@jupyter-widgets/controls",
      "_view_module_version": "1.5.0",
      "_view_name": "HTMLView",
      "description": "",
      "description_tooltip": null,
      "layout": "IPY_MODEL_940dd0189f7a4b7780ca4c5ba03b98a7",
      "placeholder": "​",
      "style": "IPY_MODEL_6ae95df80ed846c297f3b07a2893e3bd",
      "value": "model.safetensors: 100%"
     }
    },
    "252d638399e34e3a86c026c88770cb19": {
     "model_module": "@jupyter-widgets/controls",
     "model_module_version": "1.5.0",
     "model_name": "HBoxModel",
     "state": {
      "_dom_classes": [],
      "_model_module": "@jupyter-widgets/controls",
      "_model_module_version": "1.5.0",
      "_model_name": "HBoxModel",
      "_view_count": null,
      "_view_module": "@jupyter-widgets/controls",
      "_view_module_version": "1.5.0",
      "_view_name": "HBoxView",
      "box_style": "",
      "children": [
       "IPY_MODEL_5218272e8ad04f62ba1d4d73c6fba0c2",
       "IPY_MODEL_6fd2b0f1689b480b8185d8479cd88797",
       "IPY_MODEL_f82d6a38ffaa4a22875d222e8923af68"
      ],
      "layout": "IPY_MODEL_f1a9a0635a864127afea51b2e3d14be9"
     }
    },
    "36acbd6f0b754671b95f65f689ab8050": {
     "model_module": "@jupyter-widgets/controls",
     "model_module_version": "1.5.0",
     "model_name": "DescriptionStyleModel",
     "state": {
      "_model_module": "@jupyter-widgets/controls",
      "_model_module_version": "1.5.0",
      "_model_name": "DescriptionStyleModel",
      "_view_count": null,
      "_view_module": "@jupyter-widgets/base",
      "_view_module_version": "1.2.0",
      "_view_name": "StyleView",
      "description_width": ""
     }
    },
    "4712c924d4174867a83f295eafb050b6": {
     "model_module": "@jupyter-widgets/controls",
     "model_module_version": "1.5.0",
     "model_name": "DescriptionStyleModel",
     "state": {
      "_model_module": "@jupyter-widgets/controls",
      "_model_module_version": "1.5.0",
      "_model_name": "DescriptionStyleModel",
      "_view_count": null,
      "_view_module": "@jupyter-widgets/base",
      "_view_module_version": "1.2.0",
      "_view_name": "StyleView",
      "description_width": ""
     }
    },
    "47433ea14bf0487c807045d25bf476a1": {
     "model_module": "@jupyter-widgets/base",
     "model_module_version": "1.2.0",
     "model_name": "LayoutModel",
     "state": {
      "_model_module": "@jupyter-widgets/base",
      "_model_module_version": "1.2.0",
      "_model_name": "LayoutModel",
      "_view_count": null,
      "_view_module": "@jupyter-widgets/base",
      "_view_module_version": "1.2.0",
      "_view_name": "LayoutView",
      "align_content": null,
      "align_items": null,
      "align_self": null,
      "border": null,
      "bottom": null,
      "display": null,
      "flex": null,
      "flex_flow": null,
      "grid_area": null,
      "grid_auto_columns": null,
      "grid_auto_flow": null,
      "grid_auto_rows": null,
      "grid_column": null,
      "grid_gap": null,
      "grid_row": null,
      "grid_template_areas": null,
      "grid_template_columns": null,
      "grid_template_rows": null,
      "height": null,
      "justify_content": null,
      "justify_items": null,
      "left": null,
      "margin": null,
      "max_height": null,
      "max_width": null,
      "min_height": null,
      "min_width": null,
      "object_fit": null,
      "object_position": null,
      "order": null,
      "overflow": null,
      "overflow_x": null,
      "overflow_y": null,
      "padding": null,
      "right": null,
      "top": null,
      "visibility": null,
      "width": null
     }
    },
    "5218272e8ad04f62ba1d4d73c6fba0c2": {
     "model_module": "@jupyter-widgets/controls",
     "model_module_version": "1.5.0",
     "model_name": "HTMLModel",
     "state": {
      "_dom_classes": [],
      "_model_module": "@jupyter-widgets/controls",
      "_model_module_version": "1.5.0",
      "_model_name": "HTMLModel",
      "_view_count": null,
      "_view_module": "@jupyter-widgets/controls",
      "_view_module_version": "1.5.0",
      "_view_name": "HTMLView",
      "description": "",
      "description_tooltip": null,
      "layout": "IPY_MODEL_9eb597e4240049a59e4a54c3566a3f2a",
      "placeholder": "​",
      "style": "IPY_MODEL_5aad5ec5e58b4224a31bbc62fcf5a1a3",
      "value": "config.json: 100%"
     }
    },
    "5979b14075dc46e5b6f0ba7b5cf22642": {
     "model_module": "@jupyter-widgets/controls",
     "model_module_version": "1.5.0",
     "model_name": "HBoxModel",
     "state": {
      "_dom_classes": [],
      "_model_module": "@jupyter-widgets/controls",
      "_model_module_version": "1.5.0",
      "_model_name": "HBoxModel",
      "_view_count": null,
      "_view_module": "@jupyter-widgets/controls",
      "_view_module_version": "1.5.0",
      "_view_name": "HBoxView",
      "box_style": "",
      "children": [
       "IPY_MODEL_24d46033c21e42f1980d92fa1be1d6a6",
       "IPY_MODEL_d2d71d77ea6146d18d2526e0dfec51a7",
       "IPY_MODEL_6e69472005534a23863fbb8b90827aaa"
      ],
      "layout": "IPY_MODEL_1d56465d53fa461898a8e313154bd3b9"
     }
    },
    "5aad5ec5e58b4224a31bbc62fcf5a1a3": {
     "model_module": "@jupyter-widgets/controls",
     "model_module_version": "1.5.0",
     "model_name": "DescriptionStyleModel",
     "state": {
      "_model_module": "@jupyter-widgets/controls",
      "_model_module_version": "1.5.0",
      "_model_name": "DescriptionStyleModel",
      "_view_count": null,
      "_view_module": "@jupyter-widgets/base",
      "_view_module_version": "1.2.0",
      "_view_name": "StyleView",
      "description_width": ""
     }
    },
    "6ae95df80ed846c297f3b07a2893e3bd": {
     "model_module": "@jupyter-widgets/controls",
     "model_module_version": "1.5.0",
     "model_name": "DescriptionStyleModel",
     "state": {
      "_model_module": "@jupyter-widgets/controls",
      "_model_module_version": "1.5.0",
      "_model_name": "DescriptionStyleModel",
      "_view_count": null,
      "_view_module": "@jupyter-widgets/base",
      "_view_module_version": "1.2.0",
      "_view_name": "StyleView",
      "description_width": ""
     }
    },
    "6e69472005534a23863fbb8b90827aaa": {
     "model_module": "@jupyter-widgets/controls",
     "model_module_version": "1.5.0",
     "model_name": "HTMLModel",
     "state": {
      "_dom_classes": [],
      "_model_module": "@jupyter-widgets/controls",
      "_model_module_version": "1.5.0",
      "_model_name": "HTMLModel",
      "_view_count": null,
      "_view_module": "@jupyter-widgets/controls",
      "_view_module_version": "1.5.0",
      "_view_name": "HTMLView",
      "description": "",
      "description_tooltip": null,
      "layout": "IPY_MODEL_9330bdf68c684fcb80db454746c59096",
      "placeholder": "​",
      "style": "IPY_MODEL_36acbd6f0b754671b95f65f689ab8050",
      "value": " 440M/440M [00:06&lt;00:00, 84.8MB/s]"
     }
    },
    "6fd2b0f1689b480b8185d8479cd88797": {
     "model_module": "@jupyter-widgets/controls",
     "model_module_version": "1.5.0",
     "model_name": "FloatProgressModel",
     "state": {
      "_dom_classes": [],
      "_model_module": "@jupyter-widgets/controls",
      "_model_module_version": "1.5.0",
      "_model_name": "FloatProgressModel",
      "_view_count": null,
      "_view_module": "@jupyter-widgets/controls",
      "_view_module_version": "1.5.0",
      "_view_name": "ProgressView",
      "bar_style": "success",
      "description": "",
      "description_tooltip": null,
      "layout": "IPY_MODEL_47433ea14bf0487c807045d25bf476a1",
      "max": 570,
      "min": 0,
      "orientation": "horizontal",
      "style": "IPY_MODEL_a50488316b1f4adda252be5a1b0427b3",
      "value": 570
     }
    },
    "874666522ca34193a3477f0ea3de3ff2": {
     "model_module": "@jupyter-widgets/controls",
     "model_module_version": "1.5.0",
     "model_name": "ProgressStyleModel",
     "state": {
      "_model_module": "@jupyter-widgets/controls",
      "_model_module_version": "1.5.0",
      "_model_name": "ProgressStyleModel",
      "_view_count": null,
      "_view_module": "@jupyter-widgets/base",
      "_view_module_version": "1.2.0",
      "_view_name": "StyleView",
      "bar_color": null,
      "description_width": ""
     }
    },
    "9330bdf68c684fcb80db454746c59096": {
     "model_module": "@jupyter-widgets/base",
     "model_module_version": "1.2.0",
     "model_name": "LayoutModel",
     "state": {
      "_model_module": "@jupyter-widgets/base",
      "_model_module_version": "1.2.0",
      "_model_name": "LayoutModel",
      "_view_count": null,
      "_view_module": "@jupyter-widgets/base",
      "_view_module_version": "1.2.0",
      "_view_name": "LayoutView",
      "align_content": null,
      "align_items": null,
      "align_self": null,
      "border": null,
      "bottom": null,
      "display": null,
      "flex": null,
      "flex_flow": null,
      "grid_area": null,
      "grid_auto_columns": null,
      "grid_auto_flow": null,
      "grid_auto_rows": null,
      "grid_column": null,
      "grid_gap": null,
      "grid_row": null,
      "grid_template_areas": null,
      "grid_template_columns": null,
      "grid_template_rows": null,
      "height": null,
      "justify_content": null,
      "justify_items": null,
      "left": null,
      "margin": null,
      "max_height": null,
      "max_width": null,
      "min_height": null,
      "min_width": null,
      "object_fit": null,
      "object_position": null,
      "order": null,
      "overflow": null,
      "overflow_x": null,
      "overflow_y": null,
      "padding": null,
      "right": null,
      "top": null,
      "visibility": null,
      "width": null
     }
    },
    "940dd0189f7a4b7780ca4c5ba03b98a7": {
     "model_module": "@jupyter-widgets/base",
     "model_module_version": "1.2.0",
     "model_name": "LayoutModel",
     "state": {
      "_model_module": "@jupyter-widgets/base",
      "_model_module_version": "1.2.0",
      "_model_name": "LayoutModel",
      "_view_count": null,
      "_view_module": "@jupyter-widgets/base",
      "_view_module_version": "1.2.0",
      "_view_name": "LayoutView",
      "align_content": null,
      "align_items": null,
      "align_self": null,
      "border": null,
      "bottom": null,
      "display": null,
      "flex": null,
      "flex_flow": null,
      "grid_area": null,
      "grid_auto_columns": null,
      "grid_auto_flow": null,
      "grid_auto_rows": null,
      "grid_column": null,
      "grid_gap": null,
      "grid_row": null,
      "grid_template_areas": null,
      "grid_template_columns": null,
      "grid_template_rows": null,
      "height": null,
      "justify_content": null,
      "justify_items": null,
      "left": null,
      "margin": null,
      "max_height": null,
      "max_width": null,
      "min_height": null,
      "min_width": null,
      "object_fit": null,
      "object_position": null,
      "order": null,
      "overflow": null,
      "overflow_x": null,
      "overflow_y": null,
      "padding": null,
      "right": null,
      "top": null,
      "visibility": null,
      "width": null
     }
    },
    "9a9418a64217433ab1316e4c249e2805": {
     "model_module": "@jupyter-widgets/base",
     "model_module_version": "1.2.0",
     "model_name": "LayoutModel",
     "state": {
      "_model_module": "@jupyter-widgets/base",
      "_model_module_version": "1.2.0",
      "_model_name": "LayoutModel",
      "_view_count": null,
      "_view_module": "@jupyter-widgets/base",
      "_view_module_version": "1.2.0",
      "_view_name": "LayoutView",
      "align_content": null,
      "align_items": null,
      "align_self": null,
      "border": null,
      "bottom": null,
      "display": null,
      "flex": null,
      "flex_flow": null,
      "grid_area": null,
      "grid_auto_columns": null,
      "grid_auto_flow": null,
      "grid_auto_rows": null,
      "grid_column": null,
      "grid_gap": null,
      "grid_row": null,
      "grid_template_areas": null,
      "grid_template_columns": null,
      "grid_template_rows": null,
      "height": null,
      "justify_content": null,
      "justify_items": null,
      "left": null,
      "margin": null,
      "max_height": null,
      "max_width": null,
      "min_height": null,
      "min_width": null,
      "object_fit": null,
      "object_position": null,
      "order": null,
      "overflow": null,
      "overflow_x": null,
      "overflow_y": null,
      "padding": null,
      "right": null,
      "top": null,
      "visibility": null,
      "width": null
     }
    },
    "9eb597e4240049a59e4a54c3566a3f2a": {
     "model_module": "@jupyter-widgets/base",
     "model_module_version": "1.2.0",
     "model_name": "LayoutModel",
     "state": {
      "_model_module": "@jupyter-widgets/base",
      "_model_module_version": "1.2.0",
      "_model_name": "LayoutModel",
      "_view_count": null,
      "_view_module": "@jupyter-widgets/base",
      "_view_module_version": "1.2.0",
      "_view_name": "LayoutView",
      "align_content": null,
      "align_items": null,
      "align_self": null,
      "border": null,
      "bottom": null,
      "display": null,
      "flex": null,
      "flex_flow": null,
      "grid_area": null,
      "grid_auto_columns": null,
      "grid_auto_flow": null,
      "grid_auto_rows": null,
      "grid_column": null,
      "grid_gap": null,
      "grid_row": null,
      "grid_template_areas": null,
      "grid_template_columns": null,
      "grid_template_rows": null,
      "height": null,
      "justify_content": null,
      "justify_items": null,
      "left": null,
      "margin": null,
      "max_height": null,
      "max_width": null,
      "min_height": null,
      "min_width": null,
      "object_fit": null,
      "object_position": null,
      "order": null,
      "overflow": null,
      "overflow_x": null,
      "overflow_y": null,
      "padding": null,
      "right": null,
      "top": null,
      "visibility": null,
      "width": null
     }
    },
    "a50488316b1f4adda252be5a1b0427b3": {
     "model_module": "@jupyter-widgets/controls",
     "model_module_version": "1.5.0",
     "model_name": "ProgressStyleModel",
     "state": {
      "_model_module": "@jupyter-widgets/controls",
      "_model_module_version": "1.5.0",
      "_model_name": "ProgressStyleModel",
      "_view_count": null,
      "_view_module": "@jupyter-widgets/base",
      "_view_module_version": "1.2.0",
      "_view_name": "StyleView",
      "bar_color": null,
      "description_width": ""
     }
    },
    "cc948cd72c014584a21701701831668f": {
     "model_module": "@jupyter-widgets/base",
     "model_module_version": "1.2.0",
     "model_name": "LayoutModel",
     "state": {
      "_model_module": "@jupyter-widgets/base",
      "_model_module_version": "1.2.0",
      "_model_name": "LayoutModel",
      "_view_count": null,
      "_view_module": "@jupyter-widgets/base",
      "_view_module_version": "1.2.0",
      "_view_name": "LayoutView",
      "align_content": null,
      "align_items": null,
      "align_self": null,
      "border": null,
      "bottom": null,
      "display": null,
      "flex": null,
      "flex_flow": null,
      "grid_area": null,
      "grid_auto_columns": null,
      "grid_auto_flow": null,
      "grid_auto_rows": null,
      "grid_column": null,
      "grid_gap": null,
      "grid_row": null,
      "grid_template_areas": null,
      "grid_template_columns": null,
      "grid_template_rows": null,
      "height": null,
      "justify_content": null,
      "justify_items": null,
      "left": null,
      "margin": null,
      "max_height": null,
      "max_width": null,
      "min_height": null,
      "min_width": null,
      "object_fit": null,
      "object_position": null,
      "order": null,
      "overflow": null,
      "overflow_x": null,
      "overflow_y": null,
      "padding": null,
      "right": null,
      "top": null,
      "visibility": null,
      "width": null
     }
    },
    "d2d71d77ea6146d18d2526e0dfec51a7": {
     "model_module": "@jupyter-widgets/controls",
     "model_module_version": "1.5.0",
     "model_name": "FloatProgressModel",
     "state": {
      "_dom_classes": [],
      "_model_module": "@jupyter-widgets/controls",
      "_model_module_version": "1.5.0",
      "_model_name": "FloatProgressModel",
      "_view_count": null,
      "_view_module": "@jupyter-widgets/controls",
      "_view_module_version": "1.5.0",
      "_view_name": "ProgressView",
      "bar_style": "success",
      "description": "",
      "description_tooltip": null,
      "layout": "IPY_MODEL_cc948cd72c014584a21701701831668f",
      "max": 440449768,
      "min": 0,
      "orientation": "horizontal",
      "style": "IPY_MODEL_874666522ca34193a3477f0ea3de3ff2",
      "value": 440449768
     }
    },
    "f1a9a0635a864127afea51b2e3d14be9": {
     "model_module": "@jupyter-widgets/base",
     "model_module_version": "1.2.0",
     "model_name": "LayoutModel",
     "state": {
      "_model_module": "@jupyter-widgets/base",
      "_model_module_version": "1.2.0",
      "_model_name": "LayoutModel",
      "_view_count": null,
      "_view_module": "@jupyter-widgets/base",
      "_view_module_version": "1.2.0",
      "_view_name": "LayoutView",
      "align_content": null,
      "align_items": null,
      "align_self": null,
      "border": null,
      "bottom": null,
      "display": null,
      "flex": null,
      "flex_flow": null,
      "grid_area": null,
      "grid_auto_columns": null,
      "grid_auto_flow": null,
      "grid_auto_rows": null,
      "grid_column": null,
      "grid_gap": null,
      "grid_row": null,
      "grid_template_areas": null,
      "grid_template_columns": null,
      "grid_template_rows": null,
      "height": null,
      "justify_content": null,
      "justify_items": null,
      "left": null,
      "margin": null,
      "max_height": null,
      "max_width": null,
      "min_height": null,
      "min_width": null,
      "object_fit": null,
      "object_position": null,
      "order": null,
      "overflow": null,
      "overflow_x": null,
      "overflow_y": null,
      "padding": null,
      "right": null,
      "top": null,
      "visibility": null,
      "width": null
     }
    },
    "f82d6a38ffaa4a22875d222e8923af68": {
     "model_module": "@jupyter-widgets/controls",
     "model_module_version": "1.5.0",
     "model_name": "HTMLModel",
     "state": {
      "_dom_classes": [],
      "_model_module": "@jupyter-widgets/controls",
      "_model_module_version": "1.5.0",
      "_model_name": "HTMLModel",
      "_view_count": null,
      "_view_module": "@jupyter-widgets/controls",
      "_view_module_version": "1.5.0",
      "_view_name": "HTMLView",
      "description": "",
      "description_tooltip": null,
      "layout": "IPY_MODEL_9a9418a64217433ab1316e4c249e2805",
      "placeholder": "​",
      "style": "IPY_MODEL_4712c924d4174867a83f295eafb050b6",
      "value": " 570/570 [00:00&lt;00:00, 32.6kB/s]"
     }
    }
   }
  }
 },
 "nbformat": 4,
 "nbformat_minor": 4
}
